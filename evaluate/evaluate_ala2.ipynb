{
 "cells": [
  {
   "cell_type": "markdown",
   "metadata": {},
   "source": [
    "# Evaluating alanine dipeptide (ala2)\n",
    "This notebook contains evaluations for alanine dipeptide:\n",
    "- Dihedral distributions (Ramachandran plots)\n",
    "- Jensen-Shannon divergence w.r.t. the reference dihedral distribution\n",
    "\n",
    "Dihedrals are torsional angles that twist the protein structure around the backbone. A dihedral is defined by 4 consecutive points; it is the angle between the plain defined by the first 3 points and the plane defined by the last 3 points. Since alanine dipeptide has 5 backbone atoms, it has only two dihedrals ($\\phi$ and $\\psi$, see illustration below), which are the main strcutural degrees of freedom. \n",
    "\n",
    "<img src=\"../repo_images/dihedrals.png\" width=\"200\"/>\n",
    "\n",
    "> <span style=\"color: blue;\">**! Note 1:**</span> <br> This notebook assumes that sampled molecules are saved. Use the [sampling script](../sample.py) to sample molecules and save them to a specified location.\n",
    "\n",
    "> <span style=\"color: blue;\">**! Note 2:**</span> <br> In this notebook, we assume that the raw data is not available, and therefore use the pre-saved reference distribution from [saved_references](../saved_references/).\n",
    "\n",
    "> <span style=\"color: blue;\">**! Note 3:**</span> <br> The [saved_models](../saved_models/) folder contains models trained on the *full* alanine dipeptide training set (split into 4 different folds). <br>To study the effect of training set size, models should be trained from scratch. "
   ]
  },
  {
   "cell_type": "markdown",
   "metadata": {},
   "source": [
    "### Imports"
   ]
  },
  {
   "cell_type": "code",
   "execution_count": null,
   "metadata": {},
   "outputs": [],
   "source": [
    "import torch\n",
    "import numpy as np\n",
    "import mdtraj as md\n",
    "from pathlib import Path\n",
    "from os.path import join\n",
    "\n",
    "import sys\n",
    "sys.path.insert(0, \"../\")\n",
    "from evaluate.evaluators import DihedralEnergiesEvaluator, js_divergence\n",
    "from evaluate.evaluators_CGflowmatching import (\n",
    "    get_prob,\n",
    "    get_torsions,\n",
    ")\n",
    "\n",
    "np.random.seed(0)"
   ]
  },
  {
   "cell_type": "markdown",
   "metadata": {},
   "source": [
    "### Arguments"
   ]
  },
  {
   "cell_type": "code",
   "execution_count": null,
   "metadata": {},
   "outputs": [],
   "source": [
    "# Specify\n",
    "fold = 1 # Which cross validation fold?\n",
    "append_exp_name = \"\" # Name of the experiment, leave as an empty string if not applicable\n",
    "gen_mode = \"langevin\" # Mode of generation, \"iid\" or \"langevin\"\n",
    "subsample = None # Give integer if only a random subset of the samples should be analyzed (if None, all samples are used)\n",
    "\n",
    "# Inferred\n",
    "append_exp_name_str = '_' + append_exp_name if append_exp_name else ''\n",
    "eval_folder = f\"../saved_models/alanine/fold{fold}/main_eval_output_{gen_mode}{append_exp_name_str}\"\n",
    "sample_path = Path(eval_folder, f\"sample-{gen_mode}.pt\")\n",
    "pdb_file = \"../datasets/folded_pdbs/ala2_cg.pdb\""
   ]
  },
  {
   "cell_type": "markdown",
   "metadata": {},
   "source": [
    "### Loading samples"
   ]
  },
  {
   "cell_type": "code",
   "execution_count": null,
   "metadata": {},
   "outputs": [],
   "source": [
    "# Load sampled molecules\n",
    "sampled_mol = torch.load(sample_path)\n",
    "if subsample is not None:\n",
    "    sampled_mol = sampled_mol[np.random.permutation(subsample)]\n",
    "print(f\"Size of samples set (num_samples x num_backbone_atoms x 3): {sampled_mol.shape}\")\n",
    "\n",
    "# Load topology from pdb file\n",
    "topology = md.load(pdb_file).topology\n",
    "print(f\"Atoms: {[a for a in topology.atoms]}\")"
   ]
  },
  {
   "cell_type": "markdown",
   "metadata": {},
   "source": [
    "### Obtain dihedral distribution for samples"
   ]
  },
  {
   "cell_type": "code",
   "execution_count": null,
   "metadata": {},
   "outputs": [],
   "source": [
    "# Initialize evaluator\n",
    "dihedral_evaluator_val = DihedralEnergiesEvaluator(val_data=None, \n",
    "                                               topology=topology, \n",
    "                                               plots_folder=eval_folder, \n",
    "                                               n_bins=61,\n",
    "                                               saved_ref=f\"./saved_references/saved_dih_probs_ala2_fold_{fold}_valset.pickle\")\n",
    "dihedral_evaluator_test = DihedralEnergiesEvaluator(val_data=None, \n",
    "                                               topology=topology, \n",
    "                                               plots_folder=eval_folder, \n",
    "                                               n_bins=61,\n",
    "                                               saved_ref=f\"./saved_references/saved_dih_probs_ala2_fold_{fold}_testset.pickle\")\n",
    "\n",
    "\n",
    "# Get samples dihedral distribution\n",
    "sampled_dihedrals = get_torsions(sampled_mol.numpy(), topology)\n",
    "sampled_probs = get_prob(sampled_dihedrals, n_bins=dihedral_evaluator_test.n_bins)"
   ]
  },
  {
   "cell_type": "markdown",
   "metadata": {},
   "source": [
    "### Ramachandran plot"
   ]
  },
  {
   "cell_type": "code",
   "execution_count": null,
   "metadata": {},
   "outputs": [],
   "source": [
    "save_plot = True # Whether or not to save the displayed plots\n",
    "\n",
    "# Valset Reference dihedral distribution\n",
    "dihedral_evaluator_val._plot_freeE_2d(dihedral_evaluator_val.gt_probs,\n",
    "                                  file_name=join(dihedral_evaluator_val.plots_folder, \"ramachandran_reference.png\"),\n",
    "                                  plot_title=\"Reference val\",\n",
    "                                  save_plot=save_plot)\n",
    "\n",
    "# Testset Reference dihedral distribution\n",
    "dihedral_evaluator_test._plot_freeE_2d(dihedral_evaluator_test.gt_probs,\n",
    "                                  file_name=join(dihedral_evaluator_test.plots_folder, \"ramachandran_reference.png\"),\n",
    "                                  plot_title=\"Reference test\",\n",
    "                                  save_plot=save_plot)\n",
    "\n",
    "# # Samples dihedrals distribution\n",
    "dihedral_evaluator_test._plot_freeE_2d(sampled_probs,\n",
    "                                  file_name=join(dihedral_evaluator_test.plots_folder, f\"ramachandran_sampled{exp_append}.png\"),\n",
    "                                  plot_title=\"Samples\",\n",
    "                                  save_plot=save_plot)"
   ]
  },
  {
   "cell_type": "markdown",
   "metadata": {},
   "source": [
    "### Jensen-Shannon divergence to the reference test distribution"
   ]
  },
  {
   "cell_type": "code",
   "execution_count": null,
   "metadata": {},
   "outputs": [],
   "source": [
    "dihedral_js = js_divergence(sampled_probs, dihedral_evaluator_test.gt_probs)\n",
    "print(f\"JS divergence to reference test distribution: {dihedral_js:.4f}\")"
   ]
  }
 ],
 "metadata": {
  "kernelspec": {
   "display_name": "Python 3.8.13 ('coarse-graining-environment')",
   "language": "python",
   "name": "python3"
  },
  "language_info": {
   "codemirror_mode": {
    "name": "ipython",
    "version": 3
   },
   "file_extension": ".py",
   "mimetype": "text/x-python",
   "name": "python",
   "nbconvert_exporter": "python",
   "pygments_lexer": "ipython3",
   "version": "3.8.13"
  },
  "orig_nbformat": 4,
  "vscode": {
   "interpreter": {
    "hash": "db01eea3a45f9a07f64eae14a0f2378fb83073c26acbbc0bcaa6d4a30570a3da"
   }
  }
 },
 "nbformat": 4,
 "nbformat_minor": 2
}
