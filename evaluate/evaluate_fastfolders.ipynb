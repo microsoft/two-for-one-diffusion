{
 "cells": [
  {
   "cell_type": "markdown",
   "metadata": {},
   "source": [
    "# Evaluating fast-folding proteins\n",
    "This notebook contains evaluations for fast-folding proteins (click to expand):\n",
    "\n",
    "<br>\n",
    "\n",
    "<details>\n",
    "<summary><b>Pairwise distances</b></summary>\n",
    "Calculating the pairwise distances between all beads for all samples, and comparing to the reference. Since pairwise distance matrices are symmetric, we only look at the upper triangle, with and a default (but adjustable) offset of three from the diagonal to emphasize global structure over local structure.\n",
    "</details>\n",
    "\n",
    "<br>\n",
    "\n",
    "<details>\n",
    "<summary><b>Time-lagged independent component analysis (TICA)</b></summary>\n",
    "Similar to PCA, TIC analysis takes a high-dimensional input and fits a linear model to obtain a lower-dimensional output, where TICA also includes a time component. The first two TIC components correspond to the reaction coordinates that explain the slowest conformational changes, which is highly relevant for protein (un)folding. We can use these two TIC components to obtain a 2D free energy landscape, where we can compare samples to the reference distribution (MD simulation).\n",
    "</details>\n",
    "\n",
    "<br>\n",
    "\n",
    "<details>\n",
    "<summary><b>RMSD to folded structure</b></summary>\n",
    "Align samples to the <i>native</i> structure, and calculate the bead-wise root mean squared distance.\n",
    "</details>\n",
    "\n",
    "<br>\n",
    "\n",
    "<details>\n",
    "<summary><b>Contacts</b></summary>\n",
    "Contacts occur when two beads are far away in the protien sequence, but close in the 3D structure. We can calculate the pairwise distances between all beads, and binarize the resulting all-vs-all map by setting a cutoff of 10Å. This gives a square, symmetric matrix that shows which entries are contacts, called a contact map. By summing over all contact maps and normalizing w.r.t. the number of samples, we obtain the contact probability for each pair of beads.\n",
    "</details>\n",
    "\n",
    "<br>\n",
    "\n",
    "<details>\n",
    "<summary><b>State transition probabilities</b></summary>\n",
    "For time-ordered simulations, we can count the state transition probabilities between clusters in the TIC free energy landscape (see explanation of TICA above).\n",
    "</details>\n",
    "\n",
    "<br>\n",
    "<br>\n",
    "\n",
    "\n",
    "> <span style=\"color: blue;\">**! Note 1:**</span> <br> This notebook assumes that sampled molecules are saved. Use the [sampling script](../sample.py) to sample molecules and save them to a specified location.\n",
    "\n",
    "> <span style=\"color: blue;\">**! Note 2:**</span> <br> In this notebook, we assume that the raw data is not available, and therefore use the pre-saved reference distribution from [saved_references](../saved_references/)."
   ]
  },
  {
   "cell_type": "markdown",
   "metadata": {},
   "source": [
    "### Imports"
   ]
  },
  {
   "cell_type": "code",
   "execution_count": null,
   "metadata": {},
   "outputs": [],
   "source": [
    "import torch\n",
    "import numpy as np\n",
    "import mdtraj as md\n",
    "import matplotlib.pyplot as plt\n",
    "import matplotlib.patches as mpatches\n",
    "from os.path import join\n",
    "from deeptime.clustering import MiniBatchKMeans\n",
    "from deeptime.markov import TransitionCountEstimator\n",
    "from sklearn.preprocessing import normalize\n",
    "import seaborn as sns\n",
    "from pathlib import Path\n",
    "\n",
    "import sys\n",
    "sys.path.insert(0, \"../\")\n",
    "from evaluate.evaluators import (\n",
    "    PwdEvaluator,\n",
    "    TicEvaluator,\n",
    "    RmsdEvaluator,\n",
    "    ContactEvaluator,\n",
    "    get_pwd_triu_batch,\n",
    "    js_divergence,\n",
    ")\n",
    "from datasets.dataset_utils_empty import Molecules\n",
    "\n",
    "np.random.seed(0)"
   ]
  },
  {
   "cell_type": "markdown",
   "metadata": {},
   "source": [
    "### Arguments\n",
    "\n",
    "> <span style=\"color: blue;\">**! Note 1:**</span> <br>\n",
    "The results in the [paper](https://pubs.acs.org/doi/10.1021/acs.jctc.3c00702) are based on a number of samples equal to the size of the training dataset (see below). To reproduce results obtained in the paper, this is the number of required samples. If needed, it is possible to randomly subsample from a set of generated structures. This is especially important for the dynamics setting, where it is necessary to subsample from the long simulated trajectories.\n",
    "\n",
    "> <span style=\"color: blue;\">**! Note 2:**</span> <br>\n",
    "Don't use random subsampling when analyzing dynamics, as samples need to be in time order.\n",
    "\n",
    "<details>\n",
    "<summary>Dataset sizes (click to expand)</summary>\n",
    "<br>\n",
    "\n",
    "| Protein name | Dataset size (total) | Training set size (70%) | Validation set size (10%)| Test set size (20%)|\n",
    "|--------------|----------------------|-------------------|---------------------|---------------|\n",
    "| chignolin    |  534.743             | 374.320           | 53.474              | 106.949       |\n",
    "| trp_cage     |  1.044.000           | 730.800           | 104.400             | 208.800       |\n",
    "| bba          |  1.114.545           | 780.181           | 111.455             | 222.909       |\n",
    "| villin       |  627.907             | 439.535           | 62.791              | 125.581       |\n",
    "| protein_g    |  1.849.251           | 1.294.476         | 184.925             | 369.850       |\n",
    "</details>"
   ]
  },
  {
   "cell_type": "code",
   "execution_count": null,
   "metadata": {},
   "outputs": [],
   "source": [
    "# Specify\n",
    "protein_name = \"chignolin\" # Options: chignolin, trp_cage, bba, villin, protein_g\n",
    "gen_mode = \"iid\" # Mode of generation, \"iid\" or \"langevin\"\n",
    "subsample = None # Give integer if only a random subset of the samples should be analyzed (if None, all samples are used)\n",
    "append_exp_name = \"\" # Name of the experiment, leave as an empty string if not applicable\n",
    "\n",
    "# Inferred\n",
    "append_exp_name_str = '_' + append_exp_name if append_exp_name else ''\n",
    "eval_folder = f\"../saved_models/{protein_name}/main_eval_output_{gen_mode}{append_exp_name_str}\"\n",
    "sample_path = Path(eval_folder, f\"sample-{gen_mode}.pt\")\n",
    "pdb_file = f\"../datasets/folded_pdbs/{Molecules[protein_name.upper()].value}-0-c-alpha.pdb\""
   ]
  },
  {
   "cell_type": "markdown",
   "metadata": {},
   "source": [
    "### Loading samples"
   ]
  },
  {
   "cell_type": "code",
   "execution_count": null,
   "metadata": {},
   "outputs": [],
   "source": [
    "# Load sampled molecules\n",
    "sampled_mol = torch.load(sample_path)\n",
    "if subsample is not None:\n",
    "    sampled_mol = sampled_mol[np.random.permutation(subsample)]\n",
    "print(f\"Size of samples set (num_samples x num_backbone_atoms x 3): {sampled_mol.shape}\")\n",
    "\n",
    "# Load topology from pdb file\n",
    "topology = md.load(pdb_file).topology\n",
    "print(f\"Atoms: {[a for a in topology.atoms]}\")\n"
   ]
  },
  {
   "cell_type": "markdown",
   "metadata": {},
   "source": [
    "### Pairwise distances"
   ]
  },
  {
   "cell_type": "code",
   "execution_count": null,
   "metadata": {},
   "outputs": [],
   "source": [
    "# Initialize evaluator\n",
    "pwd_evaluator = PwdEvaluator(val_data=None, \n",
    "                             plots_folder=eval_folder, \n",
    "                             offset=3, \n",
    "                             mol_name=protein_name,\n",
    "                             evalset='testset') # The evalset is the set we'll compare to in the next evaluation steps\n",
    "\n",
    "# Get samples pairwise distances\n",
    "pwd_sampled = get_pwd_triu_batch(sampled_mol, pwd_evaluator.offset)"
   ]
  },
  {
   "cell_type": "code",
   "execution_count": null,
   "metadata": {},
   "outputs": [],
   "source": [
    "# Jensen-Shannon divergence to reference\n",
    "pwd_js = pwd_evaluator.js_divergence_pwd(pwd_evaluator.gt_hist, \n",
    "                                         pwd_sampled, \n",
    "                                         pwd_evaluator.gt_max, \n",
    "                                         pwd_evaluator.resolution)\n",
    "\n",
    "print(f\"JS divergence to reference distribution: {pwd_js:.4f}\")"
   ]
  },
  {
   "cell_type": "markdown",
   "metadata": {},
   "source": [
    "### TIC analysis"
   ]
  },
  {
   "cell_type": "code",
   "execution_count": null,
   "metadata": {},
   "outputs": [],
   "source": [
    "# Initialize evaluator\n",
    "tic_evaluator = TicEvaluator(val_data=None,\n",
    "                             mol_name=protein_name,\n",
    "                             eval_folder=eval_folder,\n",
    "                             data_folder=None,\n",
    "                             folded_pdb_folder=\"../datasets/folded_pdbs\",\n",
    "                             evalset='testset') # The evalset is the set we'll compare to in the next evaluation steps\n",
    "\n",
    "# Get samples TIC free energy landscape\n",
    "sample_tic_features = tic_evaluator.get_tic_features(sampled_mol, tic_evaluator.folded)\n",
    "transformed_samples = tic_evaluator.tica(sample_tic_features)\n",
    "prob_samp, _, _ = np.histogram2d(\n",
    "            transformed_samples[:, 0],\n",
    "            transformed_samples[:, 1],\n",
    "            bins=[tic_evaluator.bin_edges_x, tic_evaluator.bin_edges_y],\n",
    "            density=True,\n",
    "        )"
   ]
  },
  {
   "cell_type": "code",
   "execution_count": null,
   "metadata": {},
   "outputs": [],
   "source": [
    "# TIC plot\n",
    "save_plot = True # Whether or not to save the displayed plots\n",
    "\n",
    "# Reference\n",
    "fig = tic_evaluator._plot_tic(tic_evaluator.gt_prob,\n",
    "                              file_name=join(tic_evaluator.plots_folder, \"TICA_reference.png\"),\n",
    "                              title=\"Reference testset\",\n",
    "                              save_plot=save_plot)\n",
    "\n",
    "# Samples\n",
    "fig = tic_evaluator._plot_tic(prob_samp,\n",
    "                              file_name=join(tic_evaluator.plots_folder, f\"TICA_sampled_{gen_mode}.png\"),\n",
    "                              title=\"Samples\",\n",
    "                              save_plot=save_plot)\n"
   ]
  },
  {
   "cell_type": "code",
   "execution_count": null,
   "metadata": {},
   "outputs": [],
   "source": [
    "# JS divergence\n",
    "tica_js = js_divergence(prob_samp.flatten(), tic_evaluator.gt_prob.flatten())\n",
    "print(f\"JS divergence to reference distribution: {tica_js:.4f}\")"
   ]
  },
  {
   "cell_type": "markdown",
   "metadata": {},
   "source": [
    "### RMSD"
   ]
  },
  {
   "cell_type": "code",
   "execution_count": null,
   "metadata": {},
   "outputs": [],
   "source": [
    "# Initialize evaluator\n",
    "rmsd_evaluator = RmsdEvaluator(mol_name=protein_name,\n",
    "                               folded_pdb=f\"../datasets/folded_pdbs/{Molecules[protein_name.upper()].value}.pdb\",\n",
    "                               eval_folder=eval_folder)"
   ]
  },
  {
   "cell_type": "code",
   "execution_count": null,
   "metadata": {},
   "outputs": [],
   "source": [
    "# Plot\n",
    "save_plot = True # Whether or not to save the displayed plots\n",
    "\n",
    "# Recommended settings for plots\n",
    "cutoff_dict = {'chignolin': 10, 'trp_cage': 12, 'bba': 14, 'villin': 14, 'protein_g': 20}\n",
    "cutoff = cutoff_dict[protein_name.lower()]\n",
    "nbins = 100 \n",
    "\n",
    "# Load evaluation from reference data\n",
    "rmsd_evaluator.eval(\"Reference\", None, nbins, cutoff)\n",
    "\n",
    "# Evaluate samples\n",
    "rmsd_evaluator.eval(gen_mode, sampled_mol, nbins, cutoff)\n",
    "rmsd_evaluator._plot_rmsd(save=save_plot)"
   ]
  },
  {
   "cell_type": "markdown",
   "metadata": {},
   "source": [
    "### Contacts"
   ]
  },
  {
   "cell_type": "code",
   "execution_count": null,
   "metadata": {},
   "outputs": [],
   "source": [
    "# Contact cutoff (in angstrom), recommended: 10\n",
    "cutoff = 10\n",
    "\n",
    "# Initialize evaluator\n",
    "contacts = ContactEvaluator(mol_name=protein_name, \n",
    "                            folded_pdb=f\"../datasets/folded_pdbs/{Molecules[protein_name.upper()].value}.pdb\", \n",
    "                            eval_folder=eval_folder,\n",
    "                            contact_cutoff=cutoff\n",
    ")"
   ]
  },
  {
   "cell_type": "code",
   "execution_count": null,
   "metadata": {},
   "outputs": [],
   "source": [
    "# Plot\n",
    "save_plot = True # Whether or not to save the displayed plots\n",
    "\n",
    "# Plot normalized count over contacts (contact probability) for samples\n",
    "_ = contacts._plot_contact_normcount(\n",
    "    sampled_mol, gen_mode, save=save_plot, take_log=True\n",
    ")"
   ]
  },
  {
   "cell_type": "markdown",
   "metadata": {},
   "source": [
    "### Dynamics\n",
    "\n",
    "> <span style=\"color: blue;\">**! Note 1:**</span> <br>\n",
    "Only for Langevin dynamics samples! I.i.d. samples are not in order of time, and therefore results will not be meaningful. Make sure the Langevin dynamics samples are in time order, and not randomly subsampled.\n",
    "\n",
    "> <span style=\"color: blue;\">**! Note 2:**</span> <br>\n",
    "Since protein G could not be compared between our DFF method and Flow-CGNet, we do not provide presets for this protein."
   ]
  },
  {
   "cell_type": "code",
   "execution_count": null,
   "metadata": {},
   "outputs": [],
   "source": [
    "# Preset cluster centers, determined via standard K-means clustering \n",
    "# (elbow method to find the number fo clusters)\n",
    "\n",
    "assert gen_mode == \"langevin\", \"This analysis is only for Langevin dynamics samples (see Note 2 above)\"\n",
    "\n",
    "num_clusters_per_protein = {\n",
    "    \"chignolin\": 3,\n",
    "    \"villin\": 3,\n",
    "    \"trp_cage\": 3,\n",
    "    'bba': 4,\n",
    "}\n",
    "\n",
    "cluster_centers = {\n",
    "      'chignolin': np.array([[ 0.69400153, -0.34598462],\n",
    "       [-0.48732213,  0.00642035],\n",
    "       [ 1.87483537,  0.06285344]]),\n",
    "    \n",
    "    'trp_cage': np.array([[-2.15921372,  0.0062795 ],\n",
    "       [ 0.47752285, -0.38050238],\n",
    "       [ 0.40182245,  2.0690773 ]]),\n",
    "\n",
    "    'bba': np.array([[-0.5756589 , -0.60663654],\n",
    "       [ 1.7861676 , -0.87717611],\n",
    "       [ 0.91295128,  1.07518898],\n",
    "       [-0.49210152,  0.40313689]]),\n",
    "       \n",
    "    'villin': np.array([[ 1.08971813, -0.98522752],\n",
    "       [-2.49001353, -2.31375028],\n",
    "       [-0.12929561,  0.53703407]])\n",
    "}"
   ]
  },
  {
   "cell_type": "code",
   "execution_count": null,
   "metadata": {},
   "outputs": [],
   "source": [
    "# Since we need to do K-means clustering in TIC-space, we will transform the samples first\n",
    "# (this code is the same as in the \"TIC analysis\" section)\n",
    "\n",
    "# Initialize TIC evaluator\n",
    "tic_evaluator = TicEvaluator(val_data=None,\n",
    "                             mol_name=protein_name,\n",
    "                             eval_folder=eval_folder,\n",
    "                             data_folder=None,\n",
    "                             folded_pdb_folder=\"../datasets/folded_pdbs\",\n",
    "                             evalset='testset') # The evalset is the set we'll compare to in the next evaluation steps\n",
    "\n",
    "# Get samples TIC free energy landscape\n",
    "sample_tic_features = tic_evaluator.get_tic_features(sampled_mol, tic_evaluator.folded)\n",
    "transformed_samples = tic_evaluator.tica(sample_tic_features)\n",
    "\n",
    "# K-means clustering\n",
    "kmeans = MiniBatchKMeans(n_clusters=num_clusters_per_protein[protein_name], \n",
    "                         max_iter=0, \n",
    "                         batch_size=64, \n",
    "                         init_strategy='kmeans++', \n",
    "                         n_jobs=16, \n",
    "                         tolerance=1e-7, \n",
    "                         initial_centers=cluster_centers[protein_name])\n",
    "\n",
    "assignments = kmeans.fit_transform(transformed_samples)\n",
    "\n",
    "# Count transition probabilities\n",
    "count_matrix = TransitionCountEstimator.count(count_mode=\"sliding\", \n",
    "                                              dtrajs=[assignments.astype('int')], \n",
    "                                              lagtime=1)\n",
    "                                              \n",
    "count_matrix = normalize(count_matrix, axis=1, norm='l1')"
   ]
  },
  {
   "cell_type": "code",
   "execution_count": null,
   "metadata": {},
   "outputs": [],
   "source": [
    "# Plot 1: show cluster assignments in TIC-space\n",
    "save_plot = True # Whether or not to save the displayed plots\n",
    "\n",
    "plt.figure(figsize=(6,5))\n",
    "cmap = plt.get_cmap(\"tab10\")\n",
    "handles=[]\n",
    "for i in range(num_clusters_per_protein[protein_name]):\n",
    "    plt.scatter(*transformed_samples[assignments==i].T, color=cmap(i), s=5, alpha=.1)\n",
    "    handles.append(mpatches.Patch(color=cmap(i), label=f'Class {i+1}'))\n",
    "plt.legend(handles=handles)\n",
    "plt.title(f'Transformed state assignments')\n",
    "if save_plot:\n",
    "    plt.savefig(join(eval_folder, f'{protein_name}_{gen_mode}_kmeans.png'))\n",
    "    plt.show()"
   ]
  },
  {
   "cell_type": "code",
   "execution_count": null,
   "metadata": {},
   "outputs": [],
   "source": [
    "# Plot 2: transition probability matrix\n",
    "save_plot = True # Whether or not to save the displayed plots\n",
    "\n",
    "n_clusters=num_clusters_per_protein[protein_name]\n",
    "plt.figure(figsize=(4,4))\n",
    "sns.heatmap(count_matrix, annot=True, square=True, cmap = 'Greens', fmt='.3f', \n",
    "            xticklabels=np.arange(1,n_clusters+1), yticklabels=np.arange(1,n_clusters+1))\n",
    "plt.xlabel(\"End class\", fontsize=14)\n",
    "plt.ylabel(\"Start class\", fontsize=14)\n",
    "plt.title(f\"Transition probability matrix\", fontsize=14, pad=10)\n",
    "if save_plot:\n",
    "    plt.savefig(join(eval_folder, f'{protein_name}_{gen_mode}_transitions.png'))\n",
    "plt.show()"
   ]
  }
 ],
 "metadata": {
  "kernelspec": {
   "display_name": "Python 3.8.13 ('coarse-graining-environment')",
   "language": "python",
   "name": "python3"
  },
  "language_info": {
   "codemirror_mode": {
    "name": "ipython",
    "version": 3
   },
   "file_extension": ".py",
   "mimetype": "text/x-python",
   "name": "python",
   "nbconvert_exporter": "python",
   "pygments_lexer": "ipython3",
   "version": "3.8.13"
  },
  "orig_nbformat": 4,
  "vscode": {
   "interpreter": {
    "hash": "db01eea3a45f9a07f64eae14a0f2378fb83073c26acbbc0bcaa6d4a30570a3da"
   }
  }
 },
 "nbformat": 4,
 "nbformat_minor": 2
}
